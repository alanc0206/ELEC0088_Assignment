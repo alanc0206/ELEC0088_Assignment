{
 "cells": [
  {
   "cell_type": "code",
   "execution_count": null,
   "id": "c5b4258e",
   "metadata": {},
   "outputs": [],
   "source": [
    "import numpy as np\n",
    "import pandas as pd\n",
    "from matplotlib import pyplot as plt\n",
    "from statsmodels.tsa.stattools import adfuller\n",
    "from statsmodels.tsa.seasonal import seasonal_decompose\n",
    "from statsmodels.tsa.arima_model import ARIMA\n",
    "from pandas.plotting import register_matplotlib_converters\n",
    "register_matplotlib_converters()\n",
    "\n",
    "df = pd.read_csv('./london_weather.csv')\n",
    "df.drop(columns = ['snow_depth'], inplace = True)\n",
    "df.dropna(inplace= True)\n",
    "df.reset_index(drop=True, inplace=True)\n",
    "\n",
    "#get mean monthly temp\n",
    "df['date'] = pd.to_datetime(df['date'],format='%Y%m%d')\n",
    "df['month'] = pd.DatetimeIndex(df['date']).month\n",
    "df['year'] = pd.DatetimeIndex(df['date']).year\n",
    "df['month_year'] = pd.to_datetime(df['date']).dt.to_period('M')\n",
    "df=df.groupby('month_year').mean()\n",
    "\n",
    "df"
   ]
  },
  {
   "cell_type": "code",
   "execution_count": null,
   "id": "bb91fdfe",
   "metadata": {},
   "outputs": [],
   "source": [
    "#find d\n",
    "\n",
    "from statsmodels.tsa.stattools import adfuller\n",
    "from numpy import log\n",
    "result = adfuller(df.mean_temp.dropna())\n",
    "print('ADF Statistic: %f' % result[0])\n",
    "print('p-value: %f' % result[1])\n",
    "\n",
    "#if p<0.05, stationary, no differencing required, \n",
    "# d=0\n"
   ]
  },
  {
   "cell_type": "markdown",
   "id": "c865bdd1",
   "metadata": {},
   "source": [
    "# testing 2"
   ]
  },
  {
   "cell_type": "code",
   "execution_count": null,
   "id": "eeefad30",
   "metadata": {},
   "outputs": [],
   "source": [
    "# Split data into train / test sets\n",
    "n=int(len(df)*0.2)\n",
    "train = df.iloc[:len(df)-n]\n",
    "test = df.iloc[len(df)-n:]\n",
    "test"
   ]
  },
  {
   "cell_type": "code",
   "execution_count": null,
   "id": "a7f7fbef",
   "metadata": {},
   "outputs": [],
   "source": [
    "# Import the library\n",
    "from pmdarima import auto_arima\n",
    "  \n",
    "# Ignore harmless warnings\n",
    "import warnings\n",
    "warnings.filterwarnings(\"ignore\")\n",
    "\n",
    "  \n",
    "# Fit auto_arima function to AirPassengers dataset\n",
    "stepwise_fit = auto_arima(y=train['mean_temp'], \n",
    "                          xreg=train[['min_temp']],\n",
    "                          start_p = 1, start_q = 1,\n",
    "                          max_p = 3, max_q = 3, m = 12,\n",
    "                          start_P = 0, seasonal = True,\n",
    "                          d = None, D = 0, trace = True,\n",
    "                          error_action ='ignore',   # we don't want to know if an order does not work\n",
    "                          suppress_warnings = True,  # we don't want convergence warnings\n",
    "                          stepwise = True)           # set to stepwise\n",
    "  \n",
    "# To print the summary\n",
    "stepwise_fit.summary()"
   ]
  },
  {
   "cell_type": "code",
   "execution_count": null,
   "id": "339ead2d",
   "metadata": {},
   "outputs": [],
   "source": [
    "#build up ARIMA \n",
    "\n",
    "from statsmodels.tsa.arima.model import ARIMA\n",
    "from statsmodels.tsa.statespace.sarimax import SARIMAX\n",
    "import statsmodels.api as sm\n",
    "\n",
    "\n",
    "model = sm.tsa.VARMAX(\n",
    "                endog = train[['mean_temp', 'min_temp']],\n",
    "                order = (1, 1), \n",
    "                seasonal_order =(1, 0, 2, 12))\n",
    "  \n",
    "result = model.fit(maxiter=2000, disp=False)\n",
    "result.summary()"
   ]
  },
  {
   "cell_type": "markdown",
   "id": "d4d3117e",
   "metadata": {},
   "source": [
    "# prediction 5 year"
   ]
  },
  {
   "cell_type": "code",
   "execution_count": null,
   "id": "0422964b",
   "metadata": {},
   "outputs": [],
   "source": [
    "#Predictions of ARIMA Model against the test set\n",
    "start = len(train)\n",
    "end = len(df)+60\n",
    "\n",
    "# Predictions for one-year against the test set\n",
    "predictions = result.predict(start, end, dynamic=True\n",
    "                             )\n",
    "\n",
    "# plot predictions and actual values\n",
    "predictions['mean_temp'].iloc[:len(test)].plot(legend = True)\n",
    "test['mean_temp'].plot(legend = True)\n",
    "\n",
    "\n"
   ]
  },
  {
   "cell_type": "code",
   "execution_count": null,
   "id": "29a4b109",
   "metadata": {},
   "outputs": [],
   "source": [
    "#Evaluate the model using MSE and RMSE\n",
    "# Load specific evaluation tools\n",
    "from sklearn.metrics import mean_squared_error\n",
    "from statsmodels.tools.eval_measures import rmse\n",
    "  \n",
    "# Calculate root mean squared error\n",
    "RMSE=rmse(test[\"mean_temp\"], predictions[\"mean_temp\"].iloc[:len(test)])\n",
    "  \n",
    "# Calculate mean squared error\n",
    "ERROR=mean_squared_error(test[\"mean_temp\"], predictions[\"mean_temp\"].iloc[:len(test)])"
   ]
  },
  {
   "cell_type": "code",
   "execution_count": null,
   "id": "44abf560",
   "metadata": {},
   "outputs": [],
   "source": [
    "ERROR"
   ]
  },
  {
   "cell_type": "code",
   "execution_count": null,
   "id": "05e77937",
   "metadata": {},
   "outputs": [],
   "source": [
    "RMSE"
   ]
  },
  {
   "cell_type": "markdown",
   "id": "4b1664d1",
   "metadata": {},
   "source": [
    "# forecasting 5 years"
   ]
  },
  {
   "cell_type": "code",
   "execution_count": null,
   "id": "390c4066",
   "metadata": {},
   "outputs": [],
   "source": [
    "df['mean_temp'].plot(legend = True)\n",
    "predictions['mean_temp'].iloc[-60:].plot(legend = True)"
   ]
  },
  {
   "cell_type": "code",
   "execution_count": null,
   "id": "095dd321",
   "metadata": {},
   "outputs": [],
   "source": []
  }
 ],
 "metadata": {
  "kernelspec": {
   "display_name": "Python 3 (ipykernel)",
   "language": "python",
   "name": "python3"
  },
  "language_info": {
   "codemirror_mode": {
    "name": "ipython",
    "version": 3
   },
   "file_extension": ".py",
   "mimetype": "text/x-python",
   "name": "python",
   "nbconvert_exporter": "python",
   "pygments_lexer": "ipython3",
   "version": "3.8.15"
  }
 },
 "nbformat": 4,
 "nbformat_minor": 5
}
