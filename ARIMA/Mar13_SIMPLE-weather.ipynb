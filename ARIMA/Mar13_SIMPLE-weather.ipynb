{
 "cells": [
  {
   "cell_type": "code",
   "execution_count": 1,
   "id": "c5b4258e",
   "metadata": {},
   "outputs": [
    {
     "name": "stdout",
     "output_type": "stream",
     "text": [
      "            date  mean_temp\n",
      "13838 2019-12-27        7.5\n",
      "13839 2019-12-28        8.1\n",
      "13840 2019-12-29        8.7\n",
      "13841 2019-12-30        6.5\n",
      "13842 2019-12-31        7.1\n",
      "5000\n"
     ]
    }
   ],
   "source": [
    "\n",
    "\n",
    "\n",
    "import numpy as np\n",
    "import pandas as pd\n",
    "from matplotlib import pyplot as plt\n",
    "from statsmodels.tsa.stattools import adfuller\n",
    "from statsmodels.tsa.seasonal import seasonal_decompose\n",
    "from statsmodels.tsa.arima_model import ARIMA\n",
    "from pandas.plotting import register_matplotlib_converters\n",
    "register_matplotlib_converters()\n",
    "\n",
    "\n",
    "df = pd.read_csv('./london_weather.csv')\n",
    "# df.info()\n",
    "df.dropna(inplace= True)\n",
    "df.reset_index(drop=True, inplace=True)\n",
    "# df.info()\n",
    "\n",
    "#print(df.tail())\n",
    "df=df[[\"date\",\"mean_temp\"]]\n",
    "df=df[-5000:]\n",
    "#print(df.tail())\n",
    "df['date'] = pd.to_datetime(df['date'],format='%Y%m%d', )\n",
    "print(df.tail())\n",
    "\n",
    "df.sort_values(by='date', inplace = True)\n",
    "df.reset_index(drop=True, inplace=True)\n",
    "#print(df.head())\n",
    "\n",
    "df.columns = ['ds','y']\n",
    "#print(df.tail())\n",
    "df.set_index('ds', inplace= True)\n",
    "#print(df.head())\n",
    "\n",
    "#df.plot(x='df.index',y='y',figsize=(18,6))\n",
    "\n",
    "print(len(df))\n",
    "\n",
    "\n",
    "\n",
    "\n"
   ]
  },
  {
   "cell_type": "code",
   "execution_count": 11,
   "id": "84a6b507",
   "metadata": {},
   "outputs": [
    {
     "name": "stdout",
     "output_type": "stream",
     "text": [
      "Performing stepwise search to minimize aic\n",
      " ARIMA(1,1,1)(0,0,0)[0] intercept   : AIC=20678.450, Time=2.45 sec\n",
      " ARIMA(0,1,0)(0,0,0)[0] intercept   : AIC=21052.675, Time=0.17 sec\n",
      " ARIMA(1,1,0)(0,0,0)[0] intercept   : AIC=21047.166, Time=0.52 sec\n",
      " ARIMA(0,1,1)(0,0,0)[0] intercept   : AIC=21042.983, Time=0.60 sec\n",
      " ARIMA(0,1,0)(0,0,0)[0]             : AIC=21050.681, Time=0.10 sec\n",
      " ARIMA(2,1,1)(0,0,0)[0] intercept   : AIC=20611.485, Time=1.99 sec\n",
      " ARIMA(2,1,0)(0,0,0)[0] intercept   : AIC=20897.021, Time=0.86 sec\n",
      " ARIMA(3,1,1)(0,0,0)[0] intercept   : AIC=20611.081, Time=3.50 sec\n",
      " ARIMA(3,1,0)(0,0,0)[0] intercept   : AIC=20829.934, Time=1.18 sec\n",
      " ARIMA(4,1,1)(0,0,0)[0] intercept   : AIC=20612.986, Time=4.76 sec\n",
      " ARIMA(3,1,2)(0,0,0)[0] intercept   : AIC=20613.025, Time=7.59 sec\n",
      " ARIMA(2,1,2)(0,0,0)[0] intercept   : AIC=20611.065, Time=4.89 sec\n",
      " ARIMA(1,1,2)(0,0,0)[0] intercept   : AIC=20609.065, Time=2.47 sec\n",
      " ARIMA(0,1,2)(0,0,0)[0] intercept   : AIC=20810.833, Time=1.02 sec\n",
      " ARIMA(1,1,3)(0,0,0)[0] intercept   : AIC=20611.065, Time=3.88 sec\n",
      " ARIMA(0,1,3)(0,0,0)[0] intercept   : AIC=20683.149, Time=1.25 sec\n",
      " ARIMA(2,1,3)(0,0,0)[0] intercept   : AIC=20612.631, Time=6.69 sec\n",
      " ARIMA(1,1,2)(0,0,0)[0]             : AIC=20607.089, Time=0.62 sec\n",
      " ARIMA(0,1,2)(0,0,0)[0]             : AIC=20808.844, Time=0.31 sec\n",
      " ARIMA(1,1,1)(0,0,0)[0]             : AIC=20676.477, Time=0.50 sec\n",
      " ARIMA(2,1,2)(0,0,0)[0]             : AIC=20609.089, Time=1.18 sec\n",
      " ARIMA(1,1,3)(0,0,0)[0]             : AIC=20609.089, Time=0.99 sec\n",
      " ARIMA(0,1,1)(0,0,0)[0]             : AIC=21040.989, Time=0.19 sec\n",
      " ARIMA(0,1,3)(0,0,0)[0]             : AIC=20681.164, Time=0.44 sec\n",
      " ARIMA(2,1,1)(0,0,0)[0]             : AIC=20609.508, Time=0.67 sec\n",
      " ARIMA(2,1,3)(0,0,0)[0]             : AIC=20610.654, Time=2.48 sec\n",
      "\n",
      "Best model:  ARIMA(1,1,2)(0,0,0)[0]          \n",
      "Total fit time: 51.335 seconds\n"
     ]
    },
    {
     "data": {
      "text/html": [
       "<table class=\"simpletable\">\n",
       "<caption>SARIMAX Results</caption>\n",
       "<tr>\n",
       "  <th>Dep. Variable:</th>           <td>y</td>        <th>  No. Observations:  </th>    <td>5000</td>   \n",
       "</tr>\n",
       "<tr>\n",
       "  <th>Model:</th>           <td>SARIMAX(1, 1, 2)</td> <th>  Log Likelihood     </th> <td>-10299.544</td>\n",
       "</tr>\n",
       "<tr>\n",
       "  <th>Date:</th>            <td>Sun, 19 Mar 2023</td> <th>  AIC                </th>  <td>20607.089</td>\n",
       "</tr>\n",
       "<tr>\n",
       "  <th>Time:</th>                <td>20:07:31</td>     <th>  BIC                </th>  <td>20633.157</td>\n",
       "</tr>\n",
       "<tr>\n",
       "  <th>Sample:</th>                  <td>0</td>        <th>  HQIC               </th>  <td>20616.225</td>\n",
       "</tr>\n",
       "<tr>\n",
       "  <th></th>                      <td> - 5000</td>     <th>                     </th>      <td> </td>    \n",
       "</tr>\n",
       "<tr>\n",
       "  <th>Covariance Type:</th>        <td>opg</td>       <th>                     </th>      <td> </td>    \n",
       "</tr>\n",
       "</table>\n",
       "<table class=\"simpletable\">\n",
       "<tr>\n",
       "     <td></td>       <th>coef</th>     <th>std err</th>      <th>z</th>      <th>P>|z|</th>  <th>[0.025</th>    <th>0.975]</th>  \n",
       "</tr>\n",
       "<tr>\n",
       "  <th>ar.L1</th>  <td>    0.5859</td> <td>    0.027</td> <td>   21.995</td> <td> 0.000</td> <td>    0.534</td> <td>    0.638</td>\n",
       "</tr>\n",
       "<tr>\n",
       "  <th>ma.L1</th>  <td>   -0.7022</td> <td>    0.029</td> <td>  -24.429</td> <td> 0.000</td> <td>   -0.759</td> <td>   -0.646</td>\n",
       "</tr>\n",
       "<tr>\n",
       "  <th>ma.L2</th>  <td>   -0.1620</td> <td>    0.019</td> <td>   -8.626</td> <td> 0.000</td> <td>   -0.199</td> <td>   -0.125</td>\n",
       "</tr>\n",
       "<tr>\n",
       "  <th>sigma2</th> <td>    3.6063</td> <td>    0.068</td> <td>   53.316</td> <td> 0.000</td> <td>    3.474</td> <td>    3.739</td>\n",
       "</tr>\n",
       "</table>\n",
       "<table class=\"simpletable\">\n",
       "<tr>\n",
       "  <th>Ljung-Box (L1) (Q):</th>     <td>0.00</td> <th>  Jarque-Bera (JB):  </th> <td>59.99</td>\n",
       "</tr>\n",
       "<tr>\n",
       "  <th>Prob(Q):</th>                <td>1.00</td> <th>  Prob(JB):          </th> <td>0.00</td> \n",
       "</tr>\n",
       "<tr>\n",
       "  <th>Heteroskedasticity (H):</th> <td>1.03</td> <th>  Skew:              </th> <td>-0.22</td>\n",
       "</tr>\n",
       "<tr>\n",
       "  <th>Prob(H) (two-sided):</th>    <td>0.49</td> <th>  Kurtosis:          </th> <td>3.32</td> \n",
       "</tr>\n",
       "</table><br/><br/>Warnings:<br/>[1] Covariance matrix calculated using the outer product of gradients (complex-step)."
      ],
      "text/plain": [
       "<class 'statsmodels.iolib.summary.Summary'>\n",
       "\"\"\"\n",
       "                               SARIMAX Results                                \n",
       "==============================================================================\n",
       "Dep. Variable:                      y   No. Observations:                 5000\n",
       "Model:               SARIMAX(1, 1, 2)   Log Likelihood              -10299.544\n",
       "Date:                Sun, 19 Mar 2023   AIC                          20607.089\n",
       "Time:                        20:07:31   BIC                          20633.157\n",
       "Sample:                             0   HQIC                         20616.225\n",
       "                               - 5000                                         \n",
       "Covariance Type:                  opg                                         \n",
       "==============================================================================\n",
       "                 coef    std err          z      P>|z|      [0.025      0.975]\n",
       "------------------------------------------------------------------------------\n",
       "ar.L1          0.5859      0.027     21.995      0.000       0.534       0.638\n",
       "ma.L1         -0.7022      0.029    -24.429      0.000      -0.759      -0.646\n",
       "ma.L2         -0.1620      0.019     -8.626      0.000      -0.199      -0.125\n",
       "sigma2         3.6063      0.068     53.316      0.000       3.474       3.739\n",
       "===================================================================================\n",
       "Ljung-Box (L1) (Q):                   0.00   Jarque-Bera (JB):                59.99\n",
       "Prob(Q):                              1.00   Prob(JB):                         0.00\n",
       "Heteroskedasticity (H):               1.03   Skew:                            -0.22\n",
       "Prob(H) (two-sided):                  0.49   Kurtosis:                         3.32\n",
       "===================================================================================\n",
       "\n",
       "Warnings:\n",
       "[1] Covariance matrix calculated using the outer product of gradients (complex-step).\n",
       "\"\"\""
      ]
     },
     "execution_count": 11,
     "metadata": {},
     "output_type": "execute_result"
    }
   ],
   "source": [
    "# Import the library\n",
    "from pmdarima import auto_arima\n",
    "  \n",
    "# Ignore harmless warnings\n",
    "import warnings\n",
    "warnings.filterwarnings(\"ignore\")\n",
    "\n",
    "  \n",
    "# Fit auto_arima function to AirPassengers dataset\n",
    "stepwise_fit = auto_arima(df['y'], start_p = 1, start_q = 1,\n",
    "                          max_p = 10, max_q = 10, m = 7,\n",
    "                          start_P = 0, seasonal = False,\n",
    "                          d = None, D = 1, trace = True,\n",
    "                          error_action ='ignore',   # we don't want to know if an order does not work\n",
    "                          suppress_warnings = True,  # we don't want convergence warnings\n",
    "                          stepwise = True)           # set to stepwise\n",
    "  \n",
    "# To print the summary\n",
    "stepwise_fit.summary()"
   ]
  },
  {
   "cell_type": "code",
   "execution_count": 5,
   "id": "4b6081aa",
   "metadata": {},
   "outputs": [],
   "source": [
    "#Fit ARIMA Model to AirPassengers dataset\n",
    "from statsmodels.tsa.arima.model import ARIMA\n"
   ]
  },
  {
   "cell_type": "code",
   "execution_count": 8,
   "id": "299d880b",
   "metadata": {},
   "outputs": [
    {
     "data": {
      "text/html": [
       "<table class=\"simpletable\">\n",
       "<caption>SARIMAX Results</caption>\n",
       "<tr>\n",
       "  <th>Dep. Variable:</th>                  <td>y</td>               <th>  No. Observations:  </th>   <td>4635</td>   \n",
       "</tr>\n",
       "<tr>\n",
       "  <th>Model:</th>           <td>SARIMAX(1, 1, 2)x(1, 0, [], 7)</td> <th>  Log Likelihood     </th> <td>-9560.064</td>\n",
       "</tr>\n",
       "<tr>\n",
       "  <th>Date:</th>                   <td>Sun, 19 Mar 2023</td>        <th>  AIC                </th> <td>19130.129</td>\n",
       "</tr>\n",
       "<tr>\n",
       "  <th>Time:</th>                       <td>20:04:05</td>            <th>  BIC                </th> <td>19162.335</td>\n",
       "</tr>\n",
       "<tr>\n",
       "  <th>Sample:</th>                         <td>0</td>               <th>  HQIC               </th> <td>19141.460</td>\n",
       "</tr>\n",
       "<tr>\n",
       "  <th></th>                             <td> - 4635</td>            <th>                     </th>     <td> </td>    \n",
       "</tr>\n",
       "<tr>\n",
       "  <th>Covariance Type:</th>               <td>opg</td>              <th>                     </th>     <td> </td>    \n",
       "</tr>\n",
       "</table>\n",
       "<table class=\"simpletable\">\n",
       "<tr>\n",
       "     <td></td>        <th>coef</th>     <th>std err</th>      <th>z</th>      <th>P>|z|</th>  <th>[0.025</th>    <th>0.975]</th>  \n",
       "</tr>\n",
       "<tr>\n",
       "  <th>ar.L1</th>   <td>    0.5953</td> <td>    0.028</td> <td>   21.502</td> <td> 0.000</td> <td>    0.541</td> <td>    0.650</td>\n",
       "</tr>\n",
       "<tr>\n",
       "  <th>ma.L1</th>   <td>   -0.7107</td> <td>    0.030</td> <td>  -23.577</td> <td> 0.000</td> <td>   -0.770</td> <td>   -0.652</td>\n",
       "</tr>\n",
       "<tr>\n",
       "  <th>ma.L2</th>   <td>   -0.1601</td> <td>    0.020</td> <td>   -8.128</td> <td> 0.000</td> <td>   -0.199</td> <td>   -0.122</td>\n",
       "</tr>\n",
       "<tr>\n",
       "  <th>ar.S.L7</th> <td>    0.0228</td> <td>    0.015</td> <td>    1.478</td> <td> 0.139</td> <td>   -0.007</td> <td>    0.053</td>\n",
       "</tr>\n",
       "<tr>\n",
       "  <th>sigma2</th>  <td>    3.6258</td> <td>    0.071</td> <td>   51.167</td> <td> 0.000</td> <td>    3.487</td> <td>    3.765</td>\n",
       "</tr>\n",
       "</table>\n",
       "<table class=\"simpletable\">\n",
       "<tr>\n",
       "  <th>Ljung-Box (L1) (Q):</th>     <td>0.00</td> <th>  Jarque-Bera (JB):  </th> <td>53.21</td>\n",
       "</tr>\n",
       "<tr>\n",
       "  <th>Prob(Q):</th>                <td>0.99</td> <th>  Prob(JB):          </th> <td>0.00</td> \n",
       "</tr>\n",
       "<tr>\n",
       "  <th>Heteroskedasticity (H):</th> <td>1.04</td> <th>  Skew:              </th> <td>-0.21</td>\n",
       "</tr>\n",
       "<tr>\n",
       "  <th>Prob(H) (two-sided):</th>    <td>0.42</td> <th>  Kurtosis:          </th> <td>3.31</td> \n",
       "</tr>\n",
       "</table><br/><br/>Warnings:<br/>[1] Covariance matrix calculated using the outer product of gradients (complex-step)."
      ],
      "text/plain": [
       "<class 'statsmodels.iolib.summary.Summary'>\n",
       "\"\"\"\n",
       "                                     SARIMAX Results                                      \n",
       "==========================================================================================\n",
       "Dep. Variable:                                  y   No. Observations:                 4635\n",
       "Model:             SARIMAX(1, 1, 2)x(1, 0, [], 7)   Log Likelihood               -9560.064\n",
       "Date:                            Sun, 19 Mar 2023   AIC                          19130.129\n",
       "Time:                                    20:04:05   BIC                          19162.335\n",
       "Sample:                                         0   HQIC                         19141.460\n",
       "                                           - 4635                                         \n",
       "Covariance Type:                              opg                                         \n",
       "==============================================================================\n",
       "                 coef    std err          z      P>|z|      [0.025      0.975]\n",
       "------------------------------------------------------------------------------\n",
       "ar.L1          0.5953      0.028     21.502      0.000       0.541       0.650\n",
       "ma.L1         -0.7107      0.030    -23.577      0.000      -0.770      -0.652\n",
       "ma.L2         -0.1601      0.020     -8.128      0.000      -0.199      -0.122\n",
       "ar.S.L7        0.0228      0.015      1.478      0.139      -0.007       0.053\n",
       "sigma2         3.6258      0.071     51.167      0.000       3.487       3.765\n",
       "===================================================================================\n",
       "Ljung-Box (L1) (Q):                   0.00   Jarque-Bera (JB):                53.21\n",
       "Prob(Q):                              0.99   Prob(JB):                         0.00\n",
       "Heteroskedasticity (H):               1.04   Skew:                            -0.21\n",
       "Prob(H) (two-sided):                  0.42   Kurtosis:                         3.31\n",
       "===================================================================================\n",
       "\n",
       "Warnings:\n",
       "[1] Covariance matrix calculated using the outer product of gradients (complex-step).\n",
       "\"\"\""
      ]
     },
     "execution_count": 8,
     "metadata": {},
     "output_type": "execute_result"
    }
   ],
   "source": [
    "# Split data into train / test sets\n",
    "train = df.iloc[:len(df)-365]\n",
    "test = df.iloc[len(df)-365:] # set one year(12 months) for testing\n",
    "  \n",
    "# Fit a SARIMAX(0, 1, 1)x(2, 1, 1, 12) on the training set\n",
    "from statsmodels.tsa.statespace.sarimax import SARIMAX\n",
    "  \n",
    "model = SARIMAX(train['y'], \n",
    "                order = (1, 1, 2), \n",
    "                seasonal_order =(1, 0, 0, 7)\n",
    "             )\n",
    "  \n",
    "result = model.fit()\n",
    "result.summary()"
   ]
  },
  {
   "cell_type": "code",
   "execution_count": 9,
   "id": "ea98faee",
   "metadata": {},
   "outputs": [
    {
     "data": {
      "text/plain": [
       "<Axes: xlabel='ds'>"
      ]
     },
     "execution_count": 9,
     "metadata": {},
     "output_type": "execute_result"
    },
    {
     "data": {
      "image/png": "[encoded data removed]",
      "text/plain": [
       "<Figure size 640x480 with 1 Axes>"
      ]
     },
     "metadata": {},
     "output_type": "display_data"
    }
   ],
   "source": [
    "#Predictions of ARIMA Model against the test set\n",
    "start = len(train)\n",
    "end = len(train) + len(test) - 1\n",
    "  \n",
    "# Predictions for one-year against the test set\n",
    "predictions = result.predict(start, end,\n",
    "                             typ = 'levels').rename(\"Predictions\")\n",
    "\n",
    "predictions.index=df.index[start:end+1]\n",
    "\n",
    "# plot predictions and actual values\n",
    "predictions.plot(legend = True)\n",
    "test['y'].plot(legend = True)"
   ]
  },
  {
   "cell_type": "code",
   "execution_count": 57,
   "id": "8fe9e394",
   "metadata": {},
   "outputs": [
    {
     "data": {
      "text/plain": [
       "ds\n",
       "2019-01-01    8.305956\n",
       "2019-01-02    8.312731\n",
       "2019-01-03    7.232473\n",
       "2019-01-04    7.186443\n",
       "2019-01-05    8.758972\n",
       "                ...   \n",
       "2019-12-27    7.668188\n",
       "2019-12-28    9.440201\n",
       "2019-12-29    8.769065\n",
       "2019-12-30    8.305849\n",
       "2019-12-31    7.271157\n",
       "Name: Predictions, Length: 365, dtype: float64"
      ]
     },
     "execution_count": 57,
     "metadata": {},
     "output_type": "execute_result"
    }
   ],
   "source": [
    "predictions"
   ]
  },
  {
   "cell_type": "code",
   "execution_count": 58,
   "id": "29a4b109",
   "metadata": {},
   "outputs": [],
   "source": [
    "#Evaluate the model using MSE and RMSE\n",
    "# Load specific evaluation tools\n",
    "from sklearn.metrics import mean_squared_error\n",
    "from statsmodels.tools.eval_measures import rmse\n",
    "  \n",
    "# Calculate root mean squared error\n",
    "RMSE=rmse(test[\"y\"], predictions)\n",
    "  \n",
    "# Calculate mean squared error\n",
    "ERROR=mean_squared_error(test[\"y\"], predictions)"
   ]
  },
  {
   "cell_type": "code",
   "execution_count": 59,
   "id": "44abf560",
   "metadata": {},
   "outputs": [
    {
     "data": {
      "text/plain": [
       "48.54412477636476"
      ]
     },
     "execution_count": 59,
     "metadata": {},
     "output_type": "execute_result"
    }
   ],
   "source": [
    "ERROR"
   ]
  },
  {
   "cell_type": "code",
   "execution_count": 60,
   "id": "614476c3",
   "metadata": {},
   "outputs": [
    {
     "data": {
      "text/plain": [
       "6.967361392691265"
      ]
     },
     "execution_count": 60,
     "metadata": {},
     "output_type": "execute_result"
    }
   ],
   "source": [
    "RMSE"
   ]
  },
  {
   "cell_type": "code",
   "execution_count": 61,
   "id": "ef90cfd3",
   "metadata": {},
   "outputs": [
    {
     "data": {
      "text/plain": [
       "<Axes: xlabel='ds'>"
      ]
     },
     "execution_count": 61,
     "metadata": {},
     "output_type": "execute_result"
    },
    {
     "data": {
      "image/png": "[encoded data removed]",
      "text/plain": [
       "<Figure size 1200x500 with 1 Axes>"
      ]
     },
     "metadata": {},
     "output_type": "display_data"
    }
   ],
   "source": [
    "#Forecast using ARIMA Model\n",
    "\n",
    "\n",
    "# Train the model on the full dataset\n",
    "model = model = ARIMA(df['y'], \n",
    "                        order = (3, 0, 0), \n",
    "                        seasonal_order =(2, 1, 0, 7))\n",
    "result = model.fit()\n",
    "  \n",
    "# Forecast for the next 3 years\n",
    "forecast = result.predict(start = len(df), \n",
    "                          end = (len(df)-1) + 3 * 12, \n",
    "                          typ = 'levels').rename('Forecast')\n",
    "  \n",
    "# Plot the forecast values\n",
    "df['y'].plot(figsize = (12, 5), legend = True)\n",
    "forecast.plot(legend = True)"
   ]
  },
  {
   "cell_type": "code",
   "execution_count": 62,
   "id": "34d441cc",
   "metadata": {
    "scrolled": true
   },
   "outputs": [
    {
     "data": {
      "text/plain": [
       "5000    5.750514\n",
       "5001    6.521580\n",
       "5002    7.706849\n",
       "5003    7.247616\n",
       "5004    8.075177\n",
       "5005    6.983853\n",
       "5006    7.843069\n",
       "5007    5.905395\n",
       "5008    7.320053\n",
       "5009    8.245671\n",
       "5010    7.575225\n",
       "5011    8.327961\n",
       "5012    7.193351\n",
       "5013    8.254561\n",
       "5014    5.782374\n",
       "5015    6.562473\n",
       "5016    7.827080\n",
       "5017    7.645216\n",
       "5018    8.371065\n",
       "5019    6.896293\n",
       "5020    7.742101\n",
       "5021    5.808842\n",
       "5022    6.782602\n",
       "5023    7.916094\n",
       "5024    7.490946\n",
       "5025    8.259031\n",
       "5026    7.017083\n",
       "5027    7.934086\n",
       "5028    5.832587\n",
       "5029    6.892980\n",
       "5030    7.997994\n",
       "5031    7.566643\n",
       "5032    8.316568\n",
       "5033    7.038241\n",
       "5034    7.981146\n",
       "5035    5.808524\n",
       "Name: Forecast, dtype: float64"
      ]
     },
     "execution_count": 62,
     "metadata": {},
     "output_type": "execute_result"
    }
   ],
   "source": [
    "forecast"
   ]
  },
  {
   "cell_type": "code",
   "execution_count": 63,
   "id": "10bdc0df",
   "metadata": {},
   "outputs": [
    {
     "data": {
      "text/plain": [
       "ds\n",
       "2003-04-16    17.4\n",
       "2003-04-17    16.6\n",
       "2003-04-18    15.6\n",
       "2003-04-19     8.4\n",
       "2003-04-20    10.8\n",
       "              ... \n",
       "2019-12-27     7.5\n",
       "2019-12-28     8.1\n",
       "2019-12-29     8.7\n",
       "2019-12-30     6.5\n",
       "2019-12-31     7.1\n",
       "Name: y, Length: 5000, dtype: float64"
      ]
     },
     "execution_count": 63,
     "metadata": {},
     "output_type": "execute_result"
    }
   ],
   "source": [
    "df['y']"
   ]
  },
  {
   "cell_type": "code",
   "execution_count": null,
   "id": "93259db9",
   "metadata": {},
   "outputs": [],
   "source": []
  }
 ],
 "metadata": {
  "kernelspec": {
   "display_name": "Python 3 (ipykernel)",
   "language": "python",
   "name": "python3"
  },
  "language_info": {
   "codemirror_mode": {
    "name": "ipython",
    "version": 3
   },
   "file_extension": ".py",
   "mimetype": "text/x-python",
   "name": "python",
   "nbconvert_exporter": "python",
   "pygments_lexer": "ipython3",
   "version": "3.8.15"
  }
 },
 "nbformat": 4,
 "nbformat_minor": 5
}
