{
 "cells": [
  {
   "cell_type": "code",
   "execution_count": null,
   "id": "b93d9922",
   "metadata": {},
   "outputs": [],
   "source": [
    "import pandas as pd\n",
    "from prophet.plot import plot_plotly, plot_components_plotly\n",
    "from prophet import Prophet\n",
    "from statsmodels.tools.eval_measures import rmse\n",
    "\n",
    "df = pd.read_csv('/Users/alanchan/Documents/UCL/Year 4/ELEC0088/SNS assignment 22-23/London Property Price/ukhpi-property-type-london-from-1977-06-01-to-2018-06-01.csv')\n",
    "print(df.info())\n",
    "df.dropna(inplace= True)\n",
    "df.reset_index(drop=True, inplace=True)\n",
    "print(df.info())"
   ]
  },
  {
   "cell_type": "code",
   "execution_count": null,
   "id": "6875c664",
   "metadata": {},
   "outputs": [],
   "source": [
    "# print(df.tail())\n",
    "df=df[[\"Period\",\"Average price All property types\"]]\n",
    "df.columns = ['ds','y']\n",
    "df['ds'] = pd.to_datetime(df['ds'], format = '%Y-%m')\n",
    "print(df.tail())"
   ]
  },
  {
   "cell_type": "code",
   "execution_count": null,
   "id": "117de42a",
   "metadata": {},
   "outputs": [],
   "source": [
    "df.sort_values(by='ds', inplace = True)\n",
    "df.reset_index(drop=True, inplace=True)\n",
    "# print(df.head())\n",
    "print(df.tail())"
   ]
  },
  {
   "cell_type": "code",
   "execution_count": null,
   "id": "9fb0b2b1",
   "metadata": {},
   "outputs": [],
   "source": [
    "df.plot(x='ds',y='y',figsize=(18,6))\n",
    "print(len(df))"
   ]
  },
  {
   "cell_type": "code",
   "execution_count": null,
   "id": "9b2a5660",
   "metadata": {},
   "outputs": [],
   "source": [
    "Test_split = 12\n",
    "train = df.iloc[:len(df)-Test_split]\n",
    "test = df.iloc[len(df)-Test_split:]\n",
    "\n",
    "print(len(train))\n",
    "print(len(test))\n",
    "\n",
    "print(df.tail())"
   ]
  },
  {
   "cell_type": "code",
   "execution_count": null,
   "id": "23b67dfe",
   "metadata": {},
   "outputs": [],
   "source": [
    "m = Prophet()\n",
    "m.fit(train)\n",
    "future = m.make_future_dataframe(periods=12, freq = 'MS')\n",
    "forecast = m.predict(future)\n",
    "print(df.tail())\n",
    "print(future.tail())\n",
    "\n",
    "# forecast.tail()\n",
    "forecast[['ds', 'yhat', 'yhat_lower', 'yhat_upper']].tail()\n",
    "# future.tail()"
   ]
  },
  {
   "cell_type": "code",
   "execution_count": null,
   "id": "a994800c",
   "metadata": {
    "scrolled": false
   },
   "outputs": [],
   "source": [
    "plot_plotly(m ,forecast)"
   ]
  },
  {
   "cell_type": "code",
   "execution_count": null,
   "id": "88f7ec92",
   "metadata": {},
   "outputs": [],
   "source": [
    "plot_components_plotly(m, forecast)"
   ]
  },
  {
   "cell_type": "code",
   "execution_count": null,
   "id": "22ce5431",
   "metadata": {},
   "outputs": [],
   "source": [
    "predictions = forecast.iloc[len(train):len(train)+len(test)]['yhat']\n",
    "print(\"Root Mean Squared Error between actual and  predicted values: \",rmse(predictions,test['y']))\n",
    "print(\"Mean Value of Test Dataset:\", test['y'].mean())"
   ]
  },
  {
   "cell_type": "code",
   "execution_count": null,
   "id": "d5e1649a",
   "metadata": {},
   "outputs": [],
   "source": [
    "training = forecast.iloc[:len(train)]['yhat']\n",
    "print(\"Root Mean Squared Error between actual and  predicted values: \",rmse(training,train['y']))"
   ]
  },
  {
   "cell_type": "code",
   "execution_count": null,
   "id": "c2db54a0",
   "metadata": {},
   "outputs": [],
   "source": []
  }
 ],
 "metadata": {
  "kernelspec": {
   "display_name": "Python 3 (ipykernel)",
   "language": "python",
   "name": "python3"
  },
  "language_info": {
   "codemirror_mode": {
    "name": "ipython",
    "version": 3
   },
   "file_extension": ".py",
   "mimetype": "text/x-python",
   "name": "python",
   "nbconvert_exporter": "python",
   "pygments_lexer": "ipython3",
   "version": "3.9.13"
  }
 },
 "nbformat": 4,
 "nbformat_minor": 5
}
