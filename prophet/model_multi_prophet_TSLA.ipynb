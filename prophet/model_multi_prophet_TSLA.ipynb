{
 "cells": [
  {
   "cell_type": "code",
   "execution_count": null,
   "id": "b93d9922",
   "metadata": {},
   "outputs": [],
   "source": [
    "import pandas as pd\n",
    "import matplotlib.pyplot as plt\n",
    "from prophet.plot import plot_plotly, plot_components_plotly\n",
    "from prophet import Prophet\n",
    "from statsmodels.tools.eval_measures import rmse\n",
    "\n",
    "df = pd.read_csv('/Users/alanchan/Documents/UCL/Year 4/ELEC0088/SNS assignment 22-23/Tesla Stock Price/01_01_18_to_13_03_23.csv')\n",
    "print(df.info())\n",
    "df.dropna(inplace= True)\n",
    "df.reset_index(drop=True, inplace=True)\n",
    "print(df.info())"
   ]
  },
  {
   "cell_type": "code",
   "execution_count": null,
   "id": "4d6f676e",
   "metadata": {},
   "outputs": [],
   "source": [
    "# print(df.tail())\n",
    "df = df.rename(columns={'Price': 'y', 'Date':'ds'})\n",
    "# print(df.tail())\n",
    "df['ds'] = pd.to_datetime(df['ds'], infer_datetime_format=True)\n",
    "suffixes = {\"M\": 1000000, \"B\": 100000000}\n",
    "temp = []\n",
    "for i in df['Vol.']:\n",
    "    if i[-1] in suffixes.keys():\n",
    "        temp.append(float(i[:-1]) * suffixes.get(i[-1]))\n",
    "df['Vol.'] = temp\n",
    "print(df.tail())"
   ]
  },
  {
   "cell_type": "code",
   "execution_count": null,
   "id": "8ae7c250",
   "metadata": {},
   "outputs": [],
   "source": [
    "df.sort_values(by='ds', inplace = True)\n",
    "df.reset_index(drop=True, inplace=True)\n",
    "# print(df.head())\n",
    "print(df.tail())"
   ]
  },
  {
   "cell_type": "code",
   "execution_count": null,
   "id": "38ec44cf",
   "metadata": {},
   "outputs": [],
   "source": [
    "df.plot(x='ds',y='y',figsize=(18,6))\n",
    "print(len(df))"
   ]
  },
  {
   "cell_type": "code",
   "execution_count": null,
   "id": "0b266933",
   "metadata": {},
   "outputs": [],
   "source": [
    "train = df.iloc[:len(df)-365]\n",
    "test = df.iloc[len(df)-365:]\n",
    "\n",
    "print(len(train))\n",
    "print(len(test))\n",
    "\n",
    "print(test.head())"
   ]
  },
  {
   "cell_type": "code",
   "execution_count": null,
   "id": "61fb8637",
   "metadata": {},
   "outputs": [],
   "source": [
    "def preprocessing (multi_var,periods):\n",
    "    t = train[['ds',multi_var]]\n",
    "    t = t.rename(columns={multi_var: 'y', 'date':'ds'})\n",
    "    model = Prophet()\n",
    "    model.fit(t)\n",
    "    future = model.make_future_dataframe(periods=periods)\n",
    "    forecast = model.predict(future)\n",
    "    return forecast['yhat']\n",
    "\n",
    "periods = 365*2\n",
    "\n",
    "Open = preprocessing('Open',periods)\n",
    "High = preprocessing('High',periods)\n",
    "Low = preprocessing('Low',periods)\n",
    "Vol = preprocessing('Vol.',periods)"
   ]
  },
  {
   "cell_type": "code",
   "execution_count": null,
   "id": "23b67dfe",
   "metadata": {
    "scrolled": false
   },
   "outputs": [],
   "source": [
    "m = Prophet()\n",
    "m.add_regressor('Open')\n",
    "m.add_regressor('High')\n",
    "m.add_regressor('Low')\n",
    "m.add_regressor('Vol.')\n",
    "\n",
    "m.fit(train)\n",
    "future = m.make_future_dataframe(periods=periods) #MS for monthly, H for hourly\n",
    "future['Open'] = Open\n",
    "future['High'] = High\n",
    "future['Low'] = Low\n",
    "future['Vol.'] = Vol"
   ]
  },
  {
   "cell_type": "code",
   "execution_count": null,
   "id": "5c004fc4",
   "metadata": {},
   "outputs": [],
   "source": [
    "forecast = m.predict(future)\n",
    "forecast[['ds', 'yhat', 'yhat_lower', 'yhat_upper']].tail()"
   ]
  },
  {
   "cell_type": "code",
   "execution_count": null,
   "id": "0f8d4d7f",
   "metadata": {
    "scrolled": false
   },
   "outputs": [],
   "source": [
    "plot_plotly(m ,forecast)"
   ]
  },
  {
   "cell_type": "code",
   "execution_count": null,
   "id": "88f7ec92",
   "metadata": {
    "scrolled": false
   },
   "outputs": [],
   "source": [
    "plot_components_plotly(m, forecast)"
   ]
  },
  {
   "cell_type": "code",
   "execution_count": null,
   "id": "22ce5431",
   "metadata": {},
   "outputs": [],
   "source": [
    "predictions = forecast.iloc[len(train):len(train)+len(test)]['yhat']\n",
    "print(\"Root Mean Squared Error between actual and  predicted values: \",rmse(predictions,test['y']))\n",
    "print(\"Mean Value of Test Dataset:\", test['y'].mean())"
   ]
  },
  {
   "cell_type": "code",
   "execution_count": null,
   "id": "d5e1649a",
   "metadata": {},
   "outputs": [],
   "source": [
    "training = forecast.iloc[:len(train)]['yhat']\n",
    "print(\"Root Mean Squared Error between actual and  predicted values: \",rmse(training,train['y']))"
   ]
  },
  {
   "cell_type": "code",
   "execution_count": null,
   "id": "7802a211",
   "metadata": {},
   "outputs": [],
   "source": []
  },
  {
   "cell_type": "code",
   "execution_count": null,
   "id": "52c372fc",
   "metadata": {},
   "outputs": [],
   "source": []
  }
 ],
 "metadata": {
  "kernelspec": {
   "display_name": "Python 3 (ipykernel)",
   "language": "python",
   "name": "python3"
  },
  "language_info": {
   "codemirror_mode": {
    "name": "ipython",
    "version": 3
   },
   "file_extension": ".py",
   "mimetype": "text/x-python",
   "name": "python",
   "nbconvert_exporter": "python",
   "pygments_lexer": "ipython3",
   "version": "3.9.13"
  }
 },
 "nbformat": 4,
 "nbformat_minor": 5
}
