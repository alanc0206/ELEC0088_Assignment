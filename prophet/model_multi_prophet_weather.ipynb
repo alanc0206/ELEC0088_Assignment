{
 "cells": [
  {
   "cell_type": "code",
   "execution_count": null,
   "id": "b93d9922",
   "metadata": {},
   "outputs": [],
   "source": [
    "import pandas as pd\n",
    "from prophet.plot import plot_plotly, plot_components_plotly\n",
    "from prophet import Prophet\n",
    "from statsmodels.tools.eval_measures import rmse\n",
    "\n",
    "df = pd.read_csv('/Users/alanchan/Documents/UCL/Year 4/ELEC0088/SNS assignment 22-23/London Weather data/london_weather.csv')\n",
    "print(df.info())\n",
    "df.dropna(inplace= True)\n",
    "df.reset_index(drop=True, inplace=True)\n",
    "print(df.info())"
   ]
  },
  {
   "cell_type": "code",
   "execution_count": null,
   "id": "6875c664",
   "metadata": {},
   "outputs": [],
   "source": [
    "# print(df.tail())\n",
    "df = df.rename(columns={'mean_temp': 'y', 'date':'ds'})\n",
    "df = df[-2000:]\n",
    "# df=df[[\"date\",\"mean_temp\",\"pressure\"]]\n",
    "# df.columns = ['ds','y',\"pressure\"]\n",
    "df['ds'] = pd.to_datetime(df['ds'], format='%Y%m%d')\n",
    "print(df.tail())"
   ]
  },
  {
   "cell_type": "code",
   "execution_count": null,
   "id": "117de42a",
   "metadata": {},
   "outputs": [],
   "source": [
    "df.sort_values(by='ds', inplace = True)\n",
    "df.reset_index(drop=True, inplace=True)\n",
    "# print(df.head())\n",
    "print(df.tail())"
   ]
  },
  {
   "cell_type": "code",
   "execution_count": null,
   "id": "9fb0b2b1",
   "metadata": {},
   "outputs": [],
   "source": [
    "df.plot(x='ds',y='y',figsize=(18,6))\n",
    "print(len(df))"
   ]
  },
  {
   "cell_type": "code",
   "execution_count": null,
   "id": "9b2a5660",
   "metadata": {
    "scrolled": true
   },
   "outputs": [],
   "source": [
    "train = df.iloc[:len(df)-365]\n",
    "test = df.iloc[len(df)-365:]\n",
    "\n",
    "print(len(train))\n",
    "print(len(test))\n",
    "\n",
    "print(df.tail())"
   ]
  },
  {
   "cell_type": "code",
   "execution_count": null,
   "id": "323868fd",
   "metadata": {},
   "outputs": [],
   "source": [
    "def preprocessing (multi_var,periods):\n",
    "    t = train[['ds',multi_var]]\n",
    "    t = t.rename(columns={multi_var: 'y', 'date':'ds'})\n",
    "    model = Prophet()\n",
    "    model.fit(t)\n",
    "    future = model.make_future_dataframe(periods=periods)\n",
    "    forecast = model.predict(future)\n",
    "    return forecast['yhat']\n",
    "\n",
    "periods = 365*2\n",
    "\n",
    "pressure = preprocessing('pressure',periods)\n",
    "cloud_cover = preprocessing('cloud_cover',periods)\n",
    "sunshine = preprocessing('sunshine',periods)\n",
    "global_radiation = preprocessing('global_radiation',periods)\n",
    "precipitation = preprocessing('precipitation',periods)\n",
    "snow_depth = preprocessing('snow_depth',periods)"
   ]
  },
  {
   "cell_type": "code",
   "execution_count": null,
   "id": "23b67dfe",
   "metadata": {},
   "outputs": [],
   "source": [
    "m = Prophet()\n",
    "m.add_regressor('pressure')\n",
    "m.add_regressor('cloud_cover')\n",
    "m.add_regressor('sunshine')\n",
    "m.add_regressor('global_radiation')\n",
    "m.add_regressor('precipitation')\n",
    "m.add_regressor('snow_depth')\n",
    "\n",
    "m.fit(train)\n",
    "\n",
    "future = m.make_future_dataframe(periods=periods) #MS for monthly, H for hourly\n",
    "\n",
    "# print(future.tail())\n",
    "future['pressure'] = pressure\n",
    "future['cloud_cover'] = cloud_cover\n",
    "future['sunshine'] = sunshine\n",
    "future['global_radiation'] = global_radiation\n",
    "future['precipitation'] = precipitation\n",
    "future['snow_depth'] = snow_depth"
   ]
  },
  {
   "cell_type": "code",
   "execution_count": null,
   "id": "7a9a3249",
   "metadata": {},
   "outputs": [],
   "source": [
    "forecast = m.predict(future)\n",
    "forecast[['ds', 'yhat', 'yhat_lower', 'yhat_upper']].tail()"
   ]
  },
  {
   "cell_type": "code",
   "execution_count": null,
   "id": "0f8d4d7f",
   "metadata": {},
   "outputs": [],
   "source": [
    "plot_plotly(m ,forecast)"
   ]
  },
  {
   "cell_type": "code",
   "execution_count": null,
   "id": "88f7ec92",
   "metadata": {},
   "outputs": [],
   "source": [
    "plot_components_plotly(m, forecast)"
   ]
  },
  {
   "cell_type": "code",
   "execution_count": null,
   "id": "22ce5431",
   "metadata": {},
   "outputs": [],
   "source": [
    "predictions = forecast.iloc[-len(test):]['yhat']\n",
    "print(\"Root Mean Squared Error between actual and  predicted values: \",rmse(predictions,test['y']))\n",
    "print(\"Mean Value of Test Dataset:\", test['y'].mean())"
   ]
  },
  {
   "cell_type": "code",
   "execution_count": null,
   "id": "d5e1649a",
   "metadata": {},
   "outputs": [],
   "source": [
    "training = forecast.iloc[:len(train)]['yhat']\n",
    "print(\"Root Mean Squared Error between actual and  predicted values: \",rmse(training,train['y']))"
   ]
  }
 ],
 "metadata": {
  "kernelspec": {
   "display_name": "Python 3 (ipykernel)",
   "language": "python",
   "name": "python3"
  },
  "language_info": {
   "codemirror_mode": {
    "name": "ipython",
    "version": 3
   },
   "file_extension": ".py",
   "mimetype": "text/x-python",
   "name": "python",
   "nbconvert_exporter": "python",
   "pygments_lexer": "ipython3",
   "version": "3.9.13"
  }
 },
 "nbformat": 4,
 "nbformat_minor": 5
}
