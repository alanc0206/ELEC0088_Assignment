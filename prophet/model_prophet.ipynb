import pandas as pd
import matplotlib.pyplot as plt
from prophet.plot import plot_plotly, plot_components_plotly
from prophet import Prophet
from statsmodels.tools.eval_measures import rmse

df = pd.read_csv('/Users/alanchan/Documents/UCL/Year 4/ELEC0088/SNS assignment 22-23/Tesla Stock Price/01_01_18_to_13_03_23.csv')
# print(df.info())
df.dropna(inplace= True)
df.reset_index(drop=True, inplace=True)
# print(df.info())

# print(df.tail())
df=df[["Date","Price"]]
# print(df.tail())
df['Date'] = pd.to_datetime(df['Date'],infer_datetime_format=True)
# print(df.tail())

df.sort_values(by='Date', inplace = True)
df.reset_index(drop=True, inplace=True)
# print(df.head())

df.columns = ['ds','y']
# print(df.tail())

# df.plot(x='ds',y='y',figsize=(18,6))

# print(len(df))

train = df.iloc[:len(df)-365]
test = df.iloc[len(df)-365:]

print(len(train))
print(len(test))

m = Prophet()
m.fit(train)
future = m.make_future_dataframe(periods=365) #MS for monthly, H for hourly
future['ds'] = df['ds']
forecast = m.predict(future)

# forecast.tail()
forecast[['ds', 'yhat', 'yhat_lower', 'yhat_upper']].tail()
# future.tail()
# future.head()

plot_plotly(m ,forecast)

plot_components_plotly(m, forecast)

predictions = forecast.iloc[-365:]['yhat']
print("Root Mean Squared Error between actual and  predicted values: ",rmse(predictions,test['y']))
print("Mean Value of Test Dataset:", test['y'].mean())

training = forecast.iloc[:-365]['yhat']
print("Root Mean Squared Error between actual and  predicted values: ",rmse(training,train['y']))
